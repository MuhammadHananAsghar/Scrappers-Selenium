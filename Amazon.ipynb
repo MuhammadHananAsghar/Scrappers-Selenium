{
 "cells": [
  {
   "cell_type": "code",
   "execution_count": 43,
   "id": "a5bab1d8",
   "metadata": {},
   "outputs": [],
   "source": [
    "import undetected_chromedriver as uc\n",
    "from selenium.webdriver import ActionChains\n",
    "from selenium.webdriver.common.action_chains import ActionChains\n",
    "from selenium.webdriver.common.by import By\n",
    "from selenium import webdriver\n",
    "import time\n"
   ]
  },
  {
   "cell_type": "code",
   "execution_count": 53,
   "id": "ba0637d4",
   "metadata": {},
   "outputs": [],
   "source": [
    "driver = uc.Chrome()\n",
    "driver.get(\"https://www.amazon.com/Extra-Effectively-Washes-Bacteria-Nourishing/dp/B0837311RV\")\n",
    "driver.maximize_window()\n",
    "time.sleep(3)\n",
    "\n",
    "title = driver.find_element(By.ID, \"productTitle\").text "
   ]
  },
  {
   "cell_type": "code",
   "execution_count": null,
   "id": "2a385db0",
   "metadata": {},
   "outputs": [],
   "source": [
    "long_description = driver.find_element(By.ID, \"feature-bullets\").text.replace(\"About this item\", \"\").strip().replace(\"\\n\", \".\")    \n",
    "images = []\n",
    "smalls = driver.find_elements(By.XPATH, \"//li[@data-csa-c-action='image-block-alt-image-hover']\")\n",
    "for sm in smalls:\n",
    "    sm.click()\n",
    "    time.sleep(0.5)"
   ]
  },
  {
   "cell_type": "code",
   "execution_count": 45,
   "id": "67716e50",
   "metadata": {},
   "outputs": [],
   "source": [
    "img_divs = driver.find_elements(By.CLASS_NAME, \"imgTagWrapper\")"
   ]
  },
  {
   "cell_type": "code",
   "execution_count": 69,
   "id": "fac87573",
   "metadata": {},
   "outputs": [],
   "source": [
    "def Amazon(url):\n",
    "    options = webdriver.ChromeOptions() \n",
    "    options.headless = True\n",
    "    driver = uc.Chrome(options=options)\n",
    "#     driver = uc.Chrome()\n",
    "    driver.get(url)\n",
    "    driver.maximize_window()\n",
    "    time.sleep(3)\n",
    "    \n",
    "    title = driver.find_element(By.ID, \"productTitle\").text \n",
    "    price = driver.find_element(By.CLASS_NAME, \"a-price\").text.split(\"$\")[-1].replace(\"\\n\", \".\")\n",
    "    long_description = driver.find_element(By.ID, \"feature-bullets\").text.replace(\"About this item\", \"\").strip().replace(\"\\n\", \".\")    \n",
    "    smalls = driver.find_elements(By.XPATH, \"//li[@data-csa-c-action='image-block-alt-image-hover']\")\n",
    "    for sm in smalls:\n",
    "        sm.click()\n",
    "        time.sleep(0.5)\n",
    "    time.sleep(2)\n",
    "    images = []\n",
    "    img_divs = driver.find_elements(By.CLASS_NAME, \"imgTagWrapper\")\n",
    "    for img in img_divs:\n",
    "        try:\n",
    "            images.append(img.find_element(By.TAG_NAME, \"img\").get_attribute(\"src\"))\n",
    "        except Exception as e:\n",
    "            pass\n",
    "    feature_image = images[0]\n",
    "    driver.quit()\n",
    "    return {\n",
    "        \"title\": title,\n",
    "        \"images\": images,\n",
    "        \"featured_image\": feature_image,\n",
    "        \"long_description\": long_description,\n",
    "        \"price\": price\n",
    "    }"
   ]
  },
  {
   "cell_type": "code",
   "execution_count": 71,
   "id": "3c78dc0b",
   "metadata": {},
   "outputs": [
    {
     "data": {
      "text/plain": [
       "{'title': \"Dove Men+Care Body Wash for Men's Skin Care Extra Fresh Effectively Washes Away Bacteria While Nourishing Your Skin, 18 Ounce (Pack of 4)\",\n",
       " 'images': ['https://m.media-amazon.com/images/I/81wWAxW+lZL._SX466_.jpg',\n",
       "  'https://m.media-amazon.com/images/I/71ijK9W0z7L._SX466_.jpg',\n",
       "  'https://m.media-amazon.com/images/I/81B3jsyiaXL._SX466_.jpg',\n",
       "  'https://m.media-amazon.com/images/I/A1bBPKZ+vuL._SX466_.jpg',\n",
       "  'https://m.media-amazon.com/images/I/91prIANc5mL._SX466_.jpg',\n",
       "  'https://m.media-amazon.com/images/I/A1l2crkP5UL._SX466_.jpg'],\n",
       " 'featured_image': 'https://m.media-amazon.com/images/I/81wWAxW+lZL._SX466_.jpg',\n",
       " 'long_description': 'REBUILDS AND STRENGTHENS SKIN. Dove Men+Care Extra Fresh face and body wash is made with skin strengthening nutrients for healthier, smoother skin.FROM THE RECOMMENDED MEN’S BRAND. This face and body wash washes away without leaving residue on your skin. It’s also an effective cleanser for hands.MICROMOISTURE TECHNOLOGY. The only face and body wash powered by Micromoisture Technology, which activates on skin and is clinically proven to fight dry skin better than regular body and face wash..REFRESHING CLEAN. Feel clean and invigorated with this hydrating face and body wash and enjoy its crisp, refreshing scent of Mandarin Citrus, Patchouli, and Rosemary.DESIGNED FOR MEN. Men’s skin is different. Men sweat more, have thicker skin and lose hydration faster. Our body wash for men is specifically developed to protect it against skin dryness.CLEANSE WITH CARE. The skin cleansing efficacy and men’s skin care you need, all in one product. It’s effective against germs and leaves your skin feeling healthy and strong',\n",
       " 'price': '25.94'}"
      ]
     },
     "execution_count": 71,
     "metadata": {},
     "output_type": "execute_result"
    }
   ],
   "source": [
    "Amazon(\"https://www.amazon.com/Extra-Effectively-Washes-Bacteria-Nourishing/dp/B0837311RV\")"
   ]
  },
  {
   "cell_type": "code",
   "execution_count": 70,
   "id": "92417fe4",
   "metadata": {},
   "outputs": [
    {
     "data": {
      "text/plain": [
       "{'title': 'Razer Huntsman Mini 60% Gaming Keyboard: Fast Keyboard Switches - Clicky Optical Switches - Chroma RGB Lighting - PBT Keycaps - Onboard Memory - Classic Black',\n",
       " 'images': ['https://m.media-amazon.com/images/I/61Az2uOUbqL._AC_SX679_.jpg',\n",
       "  'https://m.media-amazon.com/images/I/81gMc6FyI1L._AC_SX679_.jpg',\n",
       "  'https://m.media-amazon.com/images/I/81MB36DRU5L._AC_SX679_.jpg',\n",
       "  'https://m.media-amazon.com/images/I/71EXApeyE2L._AC_SX679_.jpg',\n",
       "  'https://m.media-amazon.com/images/I/71Xp0M9CfXL._AC_SX679_.jpg',\n",
       "  'https://m.media-amazon.com/images/I/71OHv4AWRYL._AC_SX679_.jpg'],\n",
       " 'featured_image': 'https://m.media-amazon.com/images/I/61Az2uOUbqL._AC_SX679_.jpg',\n",
       " 'long_description': 'Faster Than Legacy Mechanical Switches: Razer Optical switches use light-based actuation, registering key presses at the speed of light (30% shorter actuation distance than other clicky switches at 1.5 millimeter) with satisfying, clicky feedback.Ultimate Personalization and Gaming Immersion with Razer Chroma: Fully syncs with popular games, Razer hardware, Philips Hue, and gear from 30 partners; supports 16.8 million colors on individually backlit keys.Quality, Aluminum Construction: Covered with a matte, aluminum top frame for increased structural integrity.Oil-Resistant Doubleshot PBT Keycaps: Made of textured, high-grade PBT for a more durable and textured finish less prone to long-term grime buildup.Fully Programmable Macros: Razer Hypershift allows for all keys and keypress combinations to be remapped to execute complex commands',\n",
       " 'price': '69.99'}"
      ]
     },
     "execution_count": 70,
     "metadata": {},
     "output_type": "execute_result"
    }
   ],
   "source": [
    "Amazon(\"https://www.amazon.com/Razer-Huntsman-Mini-Gaming-Keyboard/dp/B08BFF4C7J?th=1\")"
   ]
  },
  {
   "cell_type": "code",
   "execution_count": 72,
   "id": "21459438",
   "metadata": {},
   "outputs": [
    {
     "data": {
      "text/plain": [
       "{'title': \"Dress the Population Women's Emery Long Sleeve Stretch Sequin Midi Sheath\",\n",
       " 'images': ['https://m.media-amazon.com/images/I/81gBLOQYzuL._AC_UL1500_.jpg',\n",
       "  'https://m.media-amazon.com/images/I/81Fm7glrFBL._AC_UL1500_.jpg'],\n",
       " 'featured_image': 'https://m.media-amazon.com/images/I/81gBLOQYzuL._AC_UL1500_.jpg',\n",
       " 'long_description': '95% Polyester, 5% Spandex.Imported.Zipper closure.Hand Wash Only.Contemporary fit.XXS (0/2) Xs (2/4) S (4/6) M (8/10) L (10/12) Xl (12/14) Xxl (14/16).Hidden back zipper.Stretch lining',\n",
       " 'price': '127.16'}"
      ]
     },
     "execution_count": 72,
     "metadata": {},
     "output_type": "execute_result"
    }
   ],
   "source": [
    "Amazon(\"https://www.amazon.com/Dress-Population-Womens-Sleeve-Stretch/dp/B072B99JHX\")"
   ]
  },
  {
   "cell_type": "code",
   "execution_count": 28,
   "id": "cf5e3775",
   "metadata": {},
   "outputs": [],
   "source": []
  },
  {
   "cell_type": "code",
   "execution_count": null,
   "id": "ba6805bd",
   "metadata": {},
   "outputs": [],
   "source": []
  }
 ],
 "metadata": {
  "kernelspec": {
   "display_name": "Python 3 (ipykernel)",
   "language": "python",
   "name": "python3"
  },
  "language_info": {
   "codemirror_mode": {
    "name": "ipython",
    "version": 3
   },
   "file_extension": ".py",
   "mimetype": "text/x-python",
   "name": "python",
   "nbconvert_exporter": "python",
   "pygments_lexer": "ipython3",
   "version": "3.8.10"
  }
 },
 "nbformat": 4,
 "nbformat_minor": 5
}
