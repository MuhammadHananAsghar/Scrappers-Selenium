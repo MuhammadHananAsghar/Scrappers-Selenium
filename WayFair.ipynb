{
 "cells": [
  {
   "cell_type": "code",
   "execution_count": 69,
   "id": "0df2aa70",
   "metadata": {},
   "outputs": [],
   "source": [
    "import undetected_chromedriver as uc\n",
    "from selenium.webdriver import ActionChains\n",
    "from selenium.webdriver.common.action_chains import ActionChains\n",
    "from selenium.webdriver.common.by import By\n",
    "from selenium import webdriver\n",
    "import time"
   ]
  },
  {
   "cell_type": "code",
   "execution_count": 84,
   "id": "c2a9fe26",
   "metadata": {},
   "outputs": [],
   "source": [
    "driver = uc.Chrome()\n",
    "\n",
    "driver.get(\"https://www.wayfair.com/kitchen-tabletop/pdp/dash-mixers-6-speed-25-qt-stand-mixer-aaqp1007.html?piid=14377580\")\n",
    "driver.maximize_window()\n",
    "time.sleep(3)"
   ]
  },
  {
   "cell_type": "code",
   "execution_count": 85,
   "id": "edb0835a",
   "metadata": {},
   "outputs": [],
   "source": [
    "driver.find_element(By.XPATH , \"//span[contains(text(), 'See More')]\").find_element(By.XPATH, \"..\").click()"
   ]
  },
  {
   "cell_type": "code",
   "execution_count": 50,
   "id": "7318c317",
   "metadata": {},
   "outputs": [],
   "source": [
    "elm = driver.find_element(By.XPATH, \"//div[contains(text(), 'Description')]\")"
   ]
  },
  {
   "cell_type": "code",
   "execution_count": 53,
   "id": "5f5e08cd",
   "metadata": {},
   "outputs": [],
   "source": [
    "elm.find_element(By.XPATH, \"../..\").click()"
   ]
  },
  {
   "cell_type": "code",
   "execution_count": 87,
   "id": "7b6756dc",
   "metadata": {},
   "outputs": [
    {
     "data": {
      "text/plain": [
       "\"Whip up healthy treats and so much more with the dash, every day 6-speed 2.5 qt. Stand mixer. Convenient and compact, the dash every day 6 speed 2.5 qt. A stand mixer is designed with a smaller footprint and fits underneath most kitchen cabinets. The dash every day 6 speed 2.5 qt. Stand mixer. Stand mixer saves time so that you can make nutritious, unprocessed recipes every day. Make velvety smooth cakes, pancake and waffle batter, homemade pizza dough, muffins, cookie dough, dressings, dips, homemade mayonnaise, meringues, whipped cream/egg whites, quick bread, tiramisu, lemon meringue pie, chocolate mousse, and much more.\\nWhat's Included?\\nStainless Steel Bowl\\nDough Hook\\nTwo Dough Hooks\\nWire Whip\\nPouring Shield\""
      ]
     },
     "execution_count": 87,
     "metadata": {},
     "output_type": "execute_result"
    }
   ],
   "source": [
    "driver.find_element(By.CLASS_NAME, \"ProductOverviewInformation-content\").text"
   ]
  },
  {
   "cell_type": "code",
   "execution_count": 78,
   "id": "1a20b608",
   "metadata": {},
   "outputs": [
    {
     "data": {
      "text/plain": [
       "'Stainless Steel Bowl\\nDough Hook\\nTwo Dough Hooks\\nWire Whip\\nPouring Shield'"
      ]
     },
     "execution_count": 78,
     "metadata": {},
     "output_type": "execute_result"
    }
   ],
   "source": [
    "driver.find_element(By.CLASS_NAME, \"WhatsIncludedInTheBoxList\").text"
   ]
  },
  {
   "cell_type": "code",
   "execution_count": 79,
   "id": "9ab30669",
   "metadata": {},
   "outputs": [],
   "source": [
    "import undetected_chromedriver as uc\n",
    "from selenium.webdriver import ActionChains\n",
    "from selenium.webdriver.common.action_chains import ActionChains\n",
    "from selenium.webdriver.common.by import By\n",
    "from selenium import webdriver\n",
    "import time\n",
    "\n",
    "def wayfair(url):\n",
    "    options = webdriver.ChromeOptions() \n",
    "    options.headless = True\n",
    "    driver = uc.Chrome(options=options)\n",
    "\n",
    "    driver.get(url)\n",
    "    driver.maximize_window()\n",
    "    time.sleep(3)\n",
    "    title = driver.find_elements(By.CLASS_NAME, \"pl-Heading--pageTitle\")[-1].text\n",
    "    price = driver.find_elements(By.CLASS_NAME, \"pl-Price-V2--5000\")[0].text.split(\"$\")[-1]\n",
    "    \n",
    "    try:\n",
    "        driver.find_element(By.XPATH , \"//span[contains(text(), 'See More')]\").find_element(By.XPATH, \"..\").click()\n",
    "        time.sleep(0.5)\n",
    "    except:\n",
    "        elm = driver.find_element(By.XPATH, \"//div[contains(text(), 'Description')]\")\n",
    "        elm.find_element(By.XPATH, \"../..\").click()\n",
    "        time.sleep(0.5)\n",
    "    long_description = driver.find_element(By.CLASS_NAME, \"ProductOverviewInformation-content\").text\n",
    "#     try:\n",
    "#         long_description = long_description + \"\\n\"+\"What's Included?\"+\"\\n\"+driver.find_element(By.CLASS_NAME, \"WhatsIncludedInTheBoxList\").text\n",
    "#     except:\n",
    "#         long_description = long_description\n",
    "    \n",
    "    images = []\n",
    "    feature_image = []\n",
    "    counter_image = 0\n",
    "    temp  = driver.find_elements(By.CLASS_NAME, \"ProductDetailImageCarousel-carouselItem\")\n",
    "    for item in temp:\n",
    "        try:\n",
    "            temp1  = item.find_element(By.CLASS_NAME, \"pl-FluidImage-image\")\n",
    "            image = temp1.get_attribute(\"src\")\n",
    "            counter_image = counter_image + 1\n",
    "            if counter_image <= 1:\n",
    "                feature_image.append(image)\n",
    "            else:\n",
    "                images.append(image)\n",
    "        except:\n",
    "            pass\n",
    "    \n",
    "    driver.quit()\n",
    "    return {\n",
    "        \"title\": title,\n",
    "        \"images\": images,\n",
    "        \"featured_image\": feature_image,\n",
    "        \"long_description\": long_description,\n",
    "        \"price\": price\n",
    "    }"
   ]
  },
  {
   "cell_type": "code",
   "execution_count": 80,
   "id": "a67745b6",
   "metadata": {},
   "outputs": [
    {
     "data": {
      "text/plain": [
       "{'title': 'Laub Swivel Bar Stool (Set of 2)',\n",
       " 'images': ['https://secure.img1-fg.wfcdn.com/im/56307370/resize-h755-w755%5Ecompr-r85/6084/60841037/Laub+Swivel+Bar+Stool.jpg',\n",
       "  'https://secure.img1-fg.wfcdn.com/im/52460262/resize-h755-w755%5Ecompr-r85/6084/60841055/Laub+Swivel+Bar+Stool.jpg',\n",
       "  'https://secure.img1-fg.wfcdn.com/im/54182293/resize-h755-w755%5Ecompr-r85/1268/126879766/Laub+Swivel+Bar+Stool.jpg',\n",
       "  'https://secure.img1-fg.wfcdn.com/im/65533206/resize-h755-w755%5Ecompr-r85/1268/126879765/Laub+Swivel+Bar+Stool.jpg',\n",
       "  'https://secure.img1-fg.wfcdn.com/im/67975257/resize-h755-w755%5Ecompr-r85/1268/126879300/Laub+Swivel+Bar+Stool.jpg',\n",
       "  'https://secure.img1-fg.wfcdn.com/im/84569851/resize-h755-w755%5Ecompr-r85/1268/126879298/Laub+Swivel+Bar+Stool.jpg',\n",
       "  'https://secure.img1-fg.wfcdn.com/im/01669424/resize-h755-w755%5Ecompr-r85/1186/118657337/Laub+Swivel+Bar+Stool.jpg'],\n",
       " 'featured_image': ['https://secure.img1-fg.wfcdn.com/im/12001833/resize-h755-w755%5Ecompr-r85/6104/61045309/Laub+Swivel+Bar+Stool.jpg'],\n",
       " 'long_description': 'It’s no wonder why stools are such a sought-after staple in home decor: they offer sensible seating arrangements to countertops, provide a stylish focal point to your bar ensembles, and are easy to carry from room to room when guests need somewhere to sit.',\n",
       " 'price': '242.38'}"
      ]
     },
     "execution_count": 80,
     "metadata": {},
     "output_type": "execute_result"
    }
   ],
   "source": [
    "wayfair(\"https://www.wayfair.com/furniture/pdp/williston-forge-laub-swivel-bar-stool-w004334465.html\")"
   ]
  },
  {
   "cell_type": "code",
   "execution_count": 81,
   "id": "d87e04ae",
   "metadata": {},
   "outputs": [
    {
     "data": {
      "text/plain": [
       "{'title': 'Lorraine TV Stand for TVs up to 60\"',\n",
       " 'images': ['https://secure.img1-fg.wfcdn.com/im/57475815/resize-h755-w755%5Ecompr-r85/6570/65706697/Lorraine+TV+Stand+for+TVs+up+to+60%22.jpg',\n",
       "  'https://secure.img1-fg.wfcdn.com/im/73757816/resize-h755-w755%5Ecompr-r85/1037/103750805/Lorraine+TV+Stand+for+TVs+up+to+60%22.jpg',\n",
       "  'https://secure.img1-fg.wfcdn.com/im/18738670/resize-h755-w755%5Ecompr-r85/6570/65706708/Lorraine+TV+Stand+for+TVs+up+to+60%22.jpg',\n",
       "  'https://secure.img1-fg.wfcdn.com/im/52791409/resize-h755-w755%5Ecompr-r85/6570/65706705/Lorraine+TV+Stand+for+TVs+up+to+60%22.jpg',\n",
       "  'https://secure.img1-fg.wfcdn.com/im/75493235/resize-h755-w755%5Ecompr-r85/6570/65706703/Lorraine+TV+Stand+for+TVs+up+to+60%22.jpg',\n",
       "  'https://secure.img1-fg.wfcdn.com/im/09545974/resize-h755-w755%5Ecompr-r85/6570/65706700/Lorraine+TV+Stand+for+TVs+up+to+60%22.jpg',\n",
       "  'https://secure.img1-fg.wfcdn.com/im/41440496/resize-h755-w755%5Ecompr-r85/6570/65706706/Lorraine+TV+Stand+for+TVs+up+to+60%22.jpg',\n",
       "  'https://secure.img1-fg.wfcdn.com/im/64142322/resize-h755-w755%5Ecompr-r85/6570/65706704/Lorraine+TV+Stand+for+TVs+up+to+60%22.jpg',\n",
       "  'https://secure.img1-fg.wfcdn.com/im/86844148/resize-h755-w755%5Ecompr-r85/6570/65706702/Lorraine+TV+Stand+for+TVs+up+to+60%22.jpg',\n",
       "  'https://secure.img1-fg.wfcdn.com/im/68826728/resize-h755-w755%5Ecompr-r85/6570/65706698/Lorraine+TV+Stand+for+TVs+up+to+60%22.jpg',\n",
       "  'https://secure.img1-fg.wfcdn.com/im/76733366/resize-h755-w755%5Ecompr-r85/6570/65706689/Lorraine+TV+Stand+for+TVs+up+to+60%22.jpg',\n",
       "  'https://secure.img1-fg.wfcdn.com/im/58856622/resize-h755-w755%5Ecompr-r85/5182/51825819/Lorraine+TV+Stand+for+TVs+up+to+60%22.jpg'],\n",
       " 'featured_image': ['https://secure.img1-fg.wfcdn.com/im/55634299/resize-h755-w755%5Ecompr-r85/1681/168178908/Lorraine+TV+Stand+for+TVs+up+to+60%22.jpg'],\n",
       " 'long_description': 'This TV stand has a charming, rustic aesthetic and provides your space with plenty of room. The frame is built from engineered wood. Each of the two cabinets opens to store media players, games, books, and other equipment, while the three open shelves give you a place to display your favorite decorative objects. We love how the barn doors add a farmhouse feel to your living room. Sliding doors and black hardware complete the country look. Plus, a cable management cutout on the back keeps your cords corralled.',\n",
       " 'price': '139.99'}"
      ]
     },
     "execution_count": 81,
     "metadata": {},
     "output_type": "execute_result"
    }
   ],
   "source": [
    "wayfair(\"https://www.wayfair.com/furniture/pdp/three-posts-lorraine-tv-stand-for-tvs-up-to-60-w001527559.html\")"
   ]
  },
  {
   "cell_type": "code",
   "execution_count": 82,
   "id": "c9a13d83",
   "metadata": {},
   "outputs": [
    {
     "data": {
      "text/plain": [
       "{'title': 'Sango Siterra Stoneware Dinnerware - Set of 16',\n",
       " 'images': ['https://secure.img1-cg.wfcdn.com/im/28394445/resize-h755-w755%5Ecompr-r85/1962/196294751/Sango+Siterra+Stoneware+Dinnerware+-+Set+of+16.jpg',\n",
       "  'https://secure.img1-cg.wfcdn.com/im/39867475/resize-h755-w755%5Ecompr-r85/1962/196294740/Sango+Siterra+Stoneware+Dinnerware+-+Set+of+16.jpg',\n",
       "  'https://secure.img1-cg.wfcdn.com/im/03470706/resize-h755-w755%5Ecompr-r85/1962/196294525/Sango+Siterra+Stoneware+Dinnerware+-+Set+of+16.jpg',\n",
       "  'https://secure.img1-cg.wfcdn.com/im/84615988/resize-h755-w755%5Ecompr-r85/1962/196294505/Sango+Siterra+Stoneware+Dinnerware+-+Set+of+16.jpg',\n",
       "  'https://secure.img1-cg.wfcdn.com/im/45487736/resize-h755-w755%5Ecompr-r85/1962/196294493/Sango+Siterra+Stoneware+Dinnerware+-+Set+of+16.jpg',\n",
       "  'https://secure.img1-cg.wfcdn.com/im/13302573/resize-h755-w755%5Ecompr-r85/1962/196294421/Sango+Siterra+Stoneware+Dinnerware+-+Set+of+16.jpg',\n",
       "  'https://secure.img1-cg.wfcdn.com/im/40007949/resize-h755-w755%5Ecompr-r85/1962/196294410/Sango+Siterra+Stoneware+Dinnerware+-+Set+of+16.jpg',\n",
       "  'https://secure.img1-cg.wfcdn.com/im/22146739/resize-h755-w755%5Ecompr-r85/1962/196294399/Sango+Siterra+Stoneware+Dinnerware+-+Set+of+16.jpg',\n",
       "  'https://secure.img1-cg.wfcdn.com/im/82013253/resize-h755-w755%5Ecompr-r85/1962/196294391/Sango+Siterra+Stoneware+Dinnerware+-+Set+of+16.jpg',\n",
       "  'https://secure.img1-cg.wfcdn.com/im/53572374/resize-h755-w755%5Ecompr-r85/1181/118192560/Sango+Siterra+Stoneware+Dinnerware+-+Set+of+16.jpg',\n",
       "  'https://secure.img1-cg.wfcdn.com/im/87468671/resize-h755-w755%5Ecompr-r85/1181/118192558/Sango+Siterra+Stoneware+Dinnerware+-+Set+of+16.jpg',\n",
       "  'https://secure.img1-cg.wfcdn.com/im/91987720/resize-h755-w755%5Ecompr-r85/1181/118192551/Sango+Siterra+Stoneware+Dinnerware+-+Set+of+16.jpg'],\n",
       " 'featured_image': ['https://secure.img1-cg.wfcdn.com/im/26418238/resize-h755-w755%5Ecompr-r85/1181/118192612/Sango+Siterra+Stoneware+Dinnerware+-+Set+of+16.jpg'],\n",
       " 'long_description': \"Bring a cozy and warm feel to your dinner table with this set. Delicate speckles adorn each piece for a rustic charm.\\nWhat's Included?\\n4 Dinner Plate\\n4 Salad Plate\\n4 Cereal Bowl\\n4 Rice Bowl\",\n",
       " 'price': '44.98'}"
      ]
     },
     "execution_count": 82,
     "metadata": {},
     "output_type": "execute_result"
    }
   ],
   "source": [
    "wayfair(\"https://www.wayfair.com/kitchen-tabletop/pdp/sango-siterra-painters-palette-16-piece-dinnerware-set-service-for-4-oyg10040.html\")"
   ]
  },
  {
   "cell_type": "code",
   "execution_count": 83,
   "id": "e1b78c4c",
   "metadata": {},
   "outputs": [
    {
     "data": {
      "text/plain": [
       "{'title': 'DASH Mixers 6 Speed 2.5 Qt. Stand Mixer',\n",
       " 'images': ['https://secure.img1-cg.wfcdn.com/im/89272474/resize-h755-w755%5Ecompr-r85/5286/52864031/DASH+Mixers+6+Speed+2.5+Qt.+Stand+Mixer.jpg',\n",
       "  'https://secure.img1-cg.wfcdn.com/im/56908124/resize-h755-w755%5Ecompr-r85/1107/110749425/DASH+Mixers+6+Speed+2.5+Qt.+Stand+Mixer.jpg',\n",
       "  'https://secure.img1-cg.wfcdn.com/im/90040782/resize-h755-w755%5Ecompr-r85/6324/63249326/DASH+Mixers+6+Speed+2.5+Qt.+Stand+Mixer.jpg',\n",
       "  'https://secure.img1-cg.wfcdn.com/im/67338956/resize-h755-w755%5Ecompr-r85/6324/63249324/DASH+Mixers+6+Speed+2.5+Qt.+Stand+Mixer.jpg',\n",
       "  'https://secure.img1-cg.wfcdn.com/im/55988043/resize-h755-w755%5Ecompr-r85/6324/63249323/DASH+Mixers+6+Speed+2.5+Qt.+Stand+Mixer.jpg',\n",
       "  'https://secure.img1-cg.wfcdn.com/im/44637130/resize-h755-w755%5Ecompr-r85/6324/63249322/DASH+Mixers+6+Speed+2.5+Qt.+Stand+Mixer.jpg'],\n",
       " 'featured_image': ['https://secure.img1-cg.wfcdn.com/im/17319888/resize-h755-w755%5Ecompr-r85/5286/52864019/DASH+Mixers+6+Speed+2.5+Qt.+Stand+Mixer.jpg'],\n",
       " 'long_description': \"Whip up healthy treats and so much more with the dash, every day 6-speed 2.5 qt. Stand mixer. Convenient and compact, the dash every day 6 speed 2.5 qt. A stand mixer is designed with a smaller footprint and fits underneath most kitchen cabinets. The dash every day 6 speed 2.5 qt. Stand mixer. Stand mixer saves time so that you can make nutritious, unprocessed recipes every day. Make velvety smooth cakes, pancake and waffle batter, homemade pizza dough, muffins, cookie dough, dressings, dips, homemade mayonnaise, meringues, whipped cream/egg whites, quick bread, tiramisu, lemon meringue pie, chocolate mousse, and much more.\\nWhat's Included?\\nStainless Steel Bowl\\nDough Hook\\nTwo Dough Hooks\\nWire Whip\\nPouring Shield\",\n",
       " 'price': '48.00'}"
      ]
     },
     "execution_count": 83,
     "metadata": {},
     "output_type": "execute_result"
    }
   ],
   "source": [
    "wayfair(\"https://www.wayfair.com/kitchen-tabletop/pdp/dash-mixers-6-speed-25-qt-stand-mixer-aaqp1007.html?piid=14377580\")"
   ]
  },
  {
   "cell_type": "code",
   "execution_count": null,
   "id": "8600d1db",
   "metadata": {},
   "outputs": [],
   "source": []
  }
 ],
 "metadata": {
  "kernelspec": {
   "display_name": "Python 3 (ipykernel)",
   "language": "python",
   "name": "python3"
  },
  "language_info": {
   "codemirror_mode": {
    "name": "ipython",
    "version": 3
   },
   "file_extension": ".py",
   "mimetype": "text/x-python",
   "name": "python",
   "nbconvert_exporter": "python",
   "pygments_lexer": "ipython3",
   "version": "3.11.0"
  }
 },
 "nbformat": 4,
 "nbformat_minor": 5
}
